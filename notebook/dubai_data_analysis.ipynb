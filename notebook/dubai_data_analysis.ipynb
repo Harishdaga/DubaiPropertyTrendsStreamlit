{
 "cells": [
  {
   "cell_type": "code",
   "execution_count": null,
   "id": "fd53c535-96f6-4eae-9011-cc0bcb07903f",
   "metadata": {},
   "outputs": [],
   "source": [
    "import pandas as pd\n",
    "import numpy as np\n",
    "import matplotlib.pyplot as plt\n",
    "import seaborn as sns\n",
    "import os\n",
    "pd.options.display.float_format = '{:.2f}'.format"
   ]
  },
  {
   "cell_type": "code",
   "execution_count": null,
   "id": "0313a10a-9e7c-40a9-8839-b29b668ae8cd",
   "metadata": {},
   "outputs": [],
   "source": [
    "data_path = 'dubai_data.csv'"
   ]
  },
  {
   "cell_type": "code",
   "execution_count": null,
   "id": "83841d73-00b7-41b6-943f-fae730f245c6",
   "metadata": {},
   "outputs": [],
   "source": [
    "df = pd.read_csv(data_path)"
   ]
  },
  {
   "cell_type": "code",
   "execution_count": null,
   "id": "b989b2d7",
   "metadata": {},
   "outputs": [],
   "source": [
    "# In this dataset we dont need \"id\" columns because this not provide any valueble info to us.\n",
    "df = df.drop(['id', 'price_per_sqft'], axis=1)"
   ]
  },
  {
   "cell_type": "code",
   "execution_count": null,
   "id": "d5eaef7d-65f6-48b7-8fa8-b84d2f05f9bd",
   "metadata": {},
   "outputs": [
    {
     "data": {
      "text/plain": [
       "<class 'pandas.core.frame.DataFrame'>\n",
       "RangeIndex: 1905 entries, 0 to 1904\n",
       "Data columns (total 36 columns):\n",
       " #   Column               Non-Null Count  Dtype  \n",
       "---  ------               --------------  -----  \n",
       " 0   neighborhood         1905 non-null   object \n",
       " 1   latitude             1905 non-null   float64\n",
       " 2   longitude            1905 non-null   float64\n",
       " 3   price                1905 non-null   int64  \n",
       " 4   size_in_sqft         1905 non-null   int64  \n",
       " 5   no_of_bedrooms       1905 non-null   int64  \n",
       " 6   no_of_bathrooms      1905 non-null   int64  \n",
       " 7   quality              1905 non-null   object \n",
       " 8   maid_room            1905 non-null   bool   \n",
       " 9   unfurnished          1905 non-null   bool   \n",
       " 10  balcony              1905 non-null   bool   \n",
       " 11  barbecue_area        1905 non-null   bool   \n",
       " 12  built_in_wardrobes   1905 non-null   bool   \n",
       " 13  central_ac           1905 non-null   bool   \n",
       " 14  childrens_play_area  1905 non-null   bool   \n",
       " 15  childrens_pool       1905 non-null   bool   \n",
       " 16  concierge            1905 non-null   bool   \n",
       " 17  covered_parking      1905 non-null   bool   \n",
       " 18  kitchen_appliances   1905 non-null   bool   \n",
       " 19  lobby_in_building    1905 non-null   bool   \n",
       " 20  maid_service         1905 non-null   bool   \n",
       " 21  networked            1905 non-null   bool   \n",
       " 22  pets_allowed         1905 non-null   bool   \n",
       " 23  private_garden       1905 non-null   bool   \n",
       " 24  private_gym          1905 non-null   bool   \n",
       " 25  private_jacuzzi      1905 non-null   bool   \n",
       " 26  private_pool         1905 non-null   bool   \n",
       " 27  security             1905 non-null   bool   \n",
       " 28  shared_gym           1905 non-null   bool   \n",
       " 29  shared_pool          1905 non-null   bool   \n",
       " 30  shared_spa           1905 non-null   bool   \n",
       " 31  study                1905 non-null   bool   \n",
       " 32  vastu_compliant      1905 non-null   bool   \n",
       " 33  view_of_landmark     1905 non-null   bool   \n",
       " 34  view_of_water        1905 non-null   bool   \n",
       " 35  walk_in_closet       1905 non-null   bool   \n",
       "dtypes: bool(28), float64(2), int64(4), object(2)\n",
       "memory usage: 171.3+ KB\n"
      ]
     },
     "metadata": {},
     "output_type": "display_data"
    }
   ],
   "source": [
    "df.info()"
   ]
  },
  {
   "cell_type": "code",
   "execution_count": null,
   "id": "1a808a69-bd22-4edc-bb43-9b852916e901",
   "metadata": {},
   "outputs": [
    {
     "data": {
      "text/plain": [
       "                           neighborhood  ...  walk_in_closet\n",
       "0                         Palm Jumeirah  ...           False\n",
       "1                         Palm Jumeirah  ...           False\n",
       "2                  Jumeirah Lake Towers  ...            True\n",
       "3                       Culture Village  ...           False\n",
       "4                         Palm Jumeirah  ...           False\n",
       "...                                 ...  ...             ...\n",
       "1900           Mohammed Bin Rashid City  ...            True\n",
       "1901           Mohammed Bin Rashid City  ...            True\n",
       "1902  Dubai Creek Harbour (The Lagoons)  ...           False\n",
       "1903            Jumeirah Village Circle  ...            True\n",
       "1904               Jumeirah Lake Towers  ...           False\n",
       "\n",
       "[1905 rows x 36 columns]\n"
      ]
     },
     "metadata": {},
     "output_type": "display_data"
    }
   ],
   "source": [
    "# There is not any null values so we not need to drop any values.\n",
    "df.dropna()"
   ]
  },
  {
   "cell_type": "code",
   "execution_count": null,
   "id": "d67651c5-f5bb-4a70-9765-c72d4d9d2ff0",
   "metadata": {},
   "outputs": [
    {
     "data": {
      "text/plain": [
       "12\n"
      ]
     },
     "metadata": {},
     "output_type": "display_data"
    }
   ],
   "source": [
    "df.duplicated().sum().sum()"
   ]
  },
  {
   "cell_type": "code",
   "execution_count": null,
   "id": "7015d570-1d92-4118-a63b-da3123fc2944",
   "metadata": {},
   "outputs": [],
   "source": [
    "df = df.drop_duplicates(keep='first')"
   ]
  },
  {
   "cell_type": "code",
   "execution_count": null,
   "id": "d95ece62-4d9e-455d-8052-d76c20b12bb7",
   "metadata": {},
   "outputs": [],
   "source": [
    "df.shape"
   ]
  },
  {
   "cell_type": "code",
   "execution_count": null,
   "id": "4b5cedc3-3b35-4f76-abfa-7437ea9345f5",
   "metadata": {},
   "outputs": [],
   "source": [
    "result = {}\n",
    "for col in df.columns:\n",
    "    result[col] = df[col].nunique()\n",
    "    "
   ]
  },
  {
   "cell_type": "code",
   "execution_count": null,
   "id": "f9eb3a02-59f4-4b0f-9ce0-eb6749437b1c",
   "metadata": {},
   "outputs": [],
   "source": [
    "result"
   ]
  },
  {
   "cell_type": "code",
   "execution_count": null,
   "id": "a3285363-9134-468a-b09f-3315f369e12f",
   "metadata": {},
   "outputs": [],
   "source": [
    "df['neighborhood'].sort_values().unique()"
   ]
  },
  {
   "cell_type": "code",
   "execution_count": null,
   "id": "0053fce2-b64a-4728-a225-262c2eacd895",
   "metadata": {},
   "outputs": [],
   "source": [
    "df.sort_values(by='price', ascending=False).head()"
   ]
  },
  {
   "cell_type": "code",
   "execution_count": null,
   "id": "8ab7d72f-4613-41b0-be30-b8993e2b3e42",
   "metadata": {},
   "outputs": [],
   "source": [
    "targeted = df.groupby('neighborhood')['price'].mean().round(2)"
   ]
  },
  {
   "cell_type": "code",
   "execution_count": null,
   "id": "2a68031f-15b4-415a-9bbe-2f36aedaf4aa",
   "metadata": {},
   "outputs": [],
   "source": [
    "df['price_mean'] = pd.to_numeric(df['neighborhood'].map(targeted))"
   ]
  },
  {
   "cell_type": "code",
   "execution_count": null,
   "id": "a35ae16d-0bec-4961-84c3-0416cf30776b",
   "metadata": {},
   "outputs": [],
   "source": [
    "pd.to_numeric(df['price_mean'])"
   ]
  },
  {
   "cell_type": "code",
   "execution_count": null,
   "id": "fd369670-d788-456b-8cad-b7994d1570f6",
   "metadata": {},
   "outputs": [],
   "source": [
    "df.to_csv('cleaned_dubai_data.csv', index=False)"
   ]
  },
  {
   "cell_type": "code",
   "execution_count": null,
   "id": "4b3a0130-46d5-442a-b30f-868782fa1910",
   "metadata": {},
   "outputs": [],
   "source": [
    "df"
   ]
  },
  {
   "cell_type": "code",
   "execution_count": null,
   "id": "7b996083",
   "metadata": {},
   "outputs": [],
   "source": []
  }
 ],
 "metadata": {
  "kernelspec": {
   "display_name": "Python 3 (ipykernel)",
   "language": "python",
   "name": "python3"
  },
  "language_info": {
   "codemirror_mode": {
    "name": "ipython",
    "version": 3
   },
   "file_extension": ".py",
   "mimetype": "text/x-python",
   "name": "python",
   "nbconvert_exporter": "python",
   "pygments_lexer": "ipython3",
   "version": "3.12.4"
  }
 },
 "nbformat": 4,
 "nbformat_minor": 5
}
